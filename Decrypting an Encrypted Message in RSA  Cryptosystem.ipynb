{
 "cells": [
  {
   "cell_type": "markdown",
   "metadata": {
    "id": "4rECdnnHGNXX"
   },
   "source": [
    "# Decrypting an RSA-Encrypted Message\n",
    "\n",
    "In this project, we want to decrypt an encoded message Alice sent to Bob. To do this, we need to decrypt each number in the list using Bob’s private key. The RSA decryption formula is:\n",
    "\n",
    "$$ m = c^d \\mod n $$\n",
    "\n",
    "where:\n",
    "\n",
    "- $ c $ is the ciphertext (each large encrypted number).\n",
    "- $ d $ is the private exponent, which is computed as:\n",
    "  $$ d = e^{-1} \\mod \\varphi(n) $$\n",
    "  where $ \\varphi(n) $ is Euler’s totient function of $ n $.\n",
    "- $ n $ is the modulus.\n",
    "\n",
    "### Steps to Solve\n",
    "\n",
    "#### 1. Compute Bob's Private Key (Exponent $ d $)\n",
    "\n",
    "1. Factorize $ n $ into its two prime factors: $ p $ and $q$.\n",
    "\n",
    "2. Compute Euler’s totient function:\n",
    "   $$ \\varphi(n) = (p - 1)(q - 1) $$\n",
    "\n",
    "3. Compute $ d $, the modular inverse of $ e $ modulo $ \\varphi(n)$.\n",
    "\n",
    "#### 2. Decrypt Each Ciphertext Value\n",
    "\n",
    "- Compute:\n",
    "  $$ m = c^d \\mod n $$\n",
    "  for each encrypted number in the list.\n",
    "\n",
    "#### 3. Decode the Resulting Numbers\n",
    "\n",
    "- Convert each number $ m $ into letters using the agreed encoding scheme.\n",
    "\n",
    "### Expected Outcome\n",
    "\n",
    "After decrypting, we will get a number sequence that maps to letters or spaces according to the agreed encoding scheme. This will reveal the original message Alice sent to Bob."
   ]
  },
  {
   "cell_type": "markdown",
   "metadata": {
    "id": "qoYppCuaUapN"
   },
   "source": [
    "### Computing Bob's Private Key, $d$\n",
    "\n",
    "We will first define the RSA modulus $n$, the public exponent $e$, and the message to be encrypted as a list of ciphertext values $M$. In this case we call the public key the tuple $(e,n)$"
   ]
  },
  {
   "cell_type": "code",
   "execution_count": 39,
   "metadata": {
    "id": "_YmtMP2FGvEY"
   },
   "outputs": [],
   "source": [
    "# Given information\n",
    "n = 956331992007843552652604425031376690367\n",
    "e = 12398737\n",
    "M = [427849968240759007228494978639775081809,\n",
    "     498308250136673589542748543030806629941,\n",
    "     925288105342943743271024837479707225255,\n",
    "     95024328800414254907217356783906225740]"
   ]
  },
  {
   "cell_type": "markdown",
   "metadata": {},
   "source": [
    "Next we  will factor the RSA modulus $n$ into its two distinct prime factors. We use Sympy's `factorint` to get the factors, check that \\(n\\) is a semiprime (exactly two primes, each with exponent 1), and then return the two primes $p$ and $q$ (sorted in increasing order)."
   ]
  },
  {
   "cell_type": "code",
   "execution_count": 42,
   "metadata": {
    "colab": {
     "base_uri": "https://localhost:8080/"
    },
    "id": "jLzX9SUXGMp2",
    "outputId": "06e31d33-26ff-4b0b-c0f4-0b1afaa8537a"
   },
   "outputs": [
    {
     "name": "stdout",
     "output_type": "stream",
     "text": [
      "p = 7746289204980135457\n",
      "q = 123456789012345681631\n"
     ]
    }
   ],
   "source": [
    "# Factoring n into two primes, p and q\n",
    "from sympy import factorint\n",
    "\n",
    "def factorize_prime(n):\n",
    "    \"\"\"Factorizes n into its two prime factors using sympy's factorint.\"\"\"\n",
    "    factors = factorint(n)\n",
    "    # Expecting exactly two prime factors with exponent 1 (i.e. semiprime)\n",
    "    if len(factors) != 2 or not all(exp == 1 for exp in factors.values()):\n",
    "        raise ValueError(\"n is not a semiprime with two distinct prime factors\")\n",
    "    # Extract the factors\n",
    "    p, q = sorted(factors.keys())\n",
    "    return p, q\n",
    "\n",
    "p, q = factorize_prime(n)\n",
    "print(\"p =\", p)\n",
    "print(\"q =\", q)"
   ]
  },
  {
   "cell_type": "markdown",
   "metadata": {},
   "source": [
    "Next we compute the Euler’s totient function:\n",
    "   $$ \\varphi(n) = (p - 1)(q - 1) $$"
   ]
  },
  {
   "cell_type": "code",
   "execution_count": 44,
   "metadata": {
    "colab": {
     "base_uri": "https://localhost:8080/"
    },
    "id": "Qz0_vJs1GIs5",
    "outputId": "3121d977-e1e2-41d1-a650-874d9c716bab"
   },
   "outputs": [
    {
     "name": "stdout",
     "output_type": "stream",
     "text": [
      "Euler's Totient Function φ(956331992007843552652604425031376690367) = 956331992007843552521401346814050873280\n"
     ]
    }
   ],
   "source": [
    "# Compute Euler's totient function φ(n)\n",
    "phi_n = (p - 1) * (q - 1)\n",
    "print(f\"Euler's Totient Function φ({n}) = {phi_n}\")"
   ]
  },
  {
   "cell_type": "markdown",
   "metadata": {},
   "source": [
    "Next, we define a function that implements the extended Euclidean algorithm. In summary, it computes the greatest common divisor (gcd) of two integers $a$ and $b$ and finds integers $u$ and $v$ such that:\n",
    "\n",
    "$$a\\cdot u + b\\cdot v = \\gcd(a,b)$$\n",
    "\n",
    "It does this by iteratively updating remainders and corresponding coefficients until the remainder reaches zero."
   ]
  },
  {
   "cell_type": "code",
   "execution_count": 46,
   "metadata": {
    "colab": {
     "base_uri": "https://localhost:8080/"
    },
    "id": "JOnf2VsQUIL8",
    "outputId": "55eb6369-cf9c-436b-dcf1-78d3c17746fd",
    "scrolled": true
   },
   "outputs": [],
   "source": [
    "#  Extended Euclidean Algorithm\n",
    "def Extended_Euclidean_Algorithm(a, b):\n",
    "    if a == 0 or b == 0:\n",
    "        return \"Error\"\n",
    "\n",
    "    r0, r1 = a, b\n",
    "    s0, s1 = 1, 0\n",
    "    t0, t1 = 0, 1\n",
    "\n",
    "    while r1 > 0:\n",
    "        q = r0 // r1\n",
    "        r = r0 - q * r1\n",
    "        r0, r1 = r1, r\n",
    "\n",
    "        s = s0 - q * s1\n",
    "        s0, s1 = s1, s\n",
    "\n",
    "        t = t0 - q * t1\n",
    "        t0, t1 = t1, t\n",
    "\n",
    "    gcd = r0\n",
    "    u = s0\n",
    "    v = t0\n",
    "    return gcd, u, v"
   ]
  },
  {
   "cell_type": "markdown",
   "metadata": {},
   "source": [
    "We use the Extended Euclidean Algorithm to compute the modular inverse of $a$ modulo $n$. Particularly, our function calculates Bob's private key $d$ as the inverse of the public exponent $e$ modulo $\\phi(n)$, ensuring that $e \\times d \\equiv 1 \\pmod{\\phi(n)}$. The result is then printed as Bob's private key."
   ]
  },
  {
   "cell_type": "code",
   "execution_count": 48,
   "metadata": {},
   "outputs": [
    {
     "name": "stdout",
     "output_type": "stream",
     "text": [
      "Bob's private key (d): 801756262003467870842260800571951669873\n"
     ]
    }
   ],
   "source": [
    "# Function for inverse mod n\n",
    "def inverse_mod_n(a, n):\n",
    "    gcd, u, v = Extended_Euclidean_Algorithm(a, n)\n",
    "    if gcd == 1:\n",
    "        return u % n\n",
    "    else:\n",
    "        return \"The inverse does not exist.\"  # a and n are not coprime\n",
    "\n",
    "# Compute Bob's private key (d)\n",
    "d = inverse_mod_n(e, phi_n)\n",
    "print(f\"Bob's private key (d): {d}\")"
   ]
  },
  {
   "cell_type": "markdown",
   "metadata": {
    "id": "s86zyZOOWQZR"
   },
   "source": [
    "### Decrypting Each Ciphertext Value i.e, Discovering the Message Value/Numbers\n",
    "\n",
    "Next, we iterate over each ciphertext in $M$ and apply the RSA decryption formula $m = c^d \\mod n$. The decrypted numeric values (representing the original encoded message) are collected in the list `decrypted_message` and then printed."
   ]
  },
  {
   "cell_type": "code",
   "execution_count": 50,
   "metadata": {
    "colab": {
     "base_uri": "https://localhost:8080/"
    },
    "id": "RC9nRBz2UJd2",
    "outputId": "e3496b17-1962-47e3-a58b-bc85fe63f3ba"
   },
   "outputs": [
    {
     "name": "stdout",
     "output_type": "stream",
     "text": [
      "Decrypted message: [30181929001929002335002215303015280030, 25003018150033252822140030181130002415, 32152800332825301500302500231500152319, 223500141913211924292524]\n"
     ]
    }
   ],
   "source": [
    "# Decrypt each ciphertext value\n",
    "decrypted_message = []\n",
    "for c in M:\n",
    "    m = pow(c, d, n)\n",
    "    decrypted_message.append(m)\n",
    "print(f\"Decrypted message: {decrypted_message}\")\n"
   ]
  },
  {
   "cell_type": "markdown",
   "metadata": {
    "id": "Rf4QvvJuX_Ff"
   },
   "source": [
    "### Decoding the Message Value"
   ]
  },
  {
   "cell_type": "markdown",
   "metadata": {},
   "source": [
    "We will define a dictionary (`decode_map`) that maps two-digit codes (like '$11$' for $A$, '$12$' for $B$, etc., and '$00$' for a space) to their corresponding characters. We then concatenate the decrypted integers into one string, and ensure the string has an even length by prepending a \"$0$\" if needed."
   ]
  },
  {
   "cell_type": "code",
   "execution_count": 58,
   "metadata": {},
   "outputs": [],
   "source": [
    " # Mapping dictionary for the encoding scheme\n",
    "decode_map = {\n",
    "        '00': ' ',\n",
    "        '11': 'A', '12': 'B', '13': 'C', '14': 'D', '15': 'E',\n",
    "        '16': 'F', '17': 'G', '18': 'H', '19': 'I', '20': 'J',\n",
    "        '21': 'K', '22': 'L', '23': 'M', '24': 'N', '25': 'O',\n",
    "        '26': 'P', '27': 'Q', '28': 'R', '29': 'S', '30': 'T',\n",
    "        '31': 'U', '32': 'V', '33': 'W', '34': 'X', '35': 'Y',\n",
    "        '36': 'Z'\n",
    "}\n",
    "\n",
    "\n",
    " # Convert the integer to a two-digit string\n",
    "num_str = \"\".join(str(m) for m in decrypted_message)\n",
    "\n",
    "# Check length and add a 0 if necessary to ensure even length\n",
    "if len(num_str) % 2 != 0:\n",
    "    num_str = \"0\" + num_str"
   ]
  },
  {
   "cell_type": "markdown",
   "metadata": {},
   "source": [
    "Finally, we split the concatenated numeric string into two-digit groups, translate each pair into its corresponding character using `decode_map`, and prints the resulting hidden message."
   ]
  },
  {
   "cell_type": "code",
   "execution_count": 63,
   "metadata": {
    "colab": {
     "base_uri": "https://localhost:8080/"
    },
    "id": "x4Ajfl_sY70D",
    "outputId": "4b9732c0-269f-478e-9fde-ed57627c1e1f",
    "scrolled": true
   },
   "outputs": [
    {
     "name": "stdout",
     "output_type": "stream",
     "text": [
      "Hidden message: THIS IS MY LETTER TO THE WORLD THAT NEVER WROTE TO ME EMILY DICKINSON\n"
     ]
    }
   ],
   "source": [
    "# Finally decoding the message using the mapping\n",
    "hidden_message = \"\"\n",
    "for i in range(0, len(num_str), 2):\n",
    "    pair = num_str[i:i+2]\n",
    "    if pair in decode_map:\n",
    "        hidden_message += decode_map[pair]\n",
    "    else:\n",
    "        hidden_message += \"?\" # Handle cases where the pair is not in the mapping\n",
    "\n",
    "print(\"Hidden message:\", hidden_message)"
   ]
  },
  {
   "cell_type": "markdown",
   "metadata": {},
   "source": [
    "The final decoded message is:  \r\n",
    "**THIS IS MY LETTER TO THE WORLD THAT NEVER WROTE TO ME EMILY DICKINSON**\r\n",
    "\r\n",
    "This message from to the famous poem by Emily Dickinson."
   ]
  }
 ],
 "metadata": {
  "colab": {
   "provenance": []
  },
  "kernelspec": {
   "display_name": "Python 3 (ipykernel)",
   "language": "python",
   "name": "python3"
  },
  "language_info": {
   "codemirror_mode": {
    "name": "ipython",
    "version": 3
   },
   "file_extension": ".py",
   "mimetype": "text/x-python",
   "name": "python",
   "nbconvert_exporter": "python",
   "pygments_lexer": "ipython3",
   "version": "3.12.4"
  }
 },
 "nbformat": 4,
 "nbformat_minor": 4
}
